{
 "cells": [
  {
   "cell_type": "code",
   "execution_count": 2,
   "metadata": {},
   "outputs": [],
   "source": [
    "def encode (freqdict,message):\n",
    "    lower_bound = 0\n",
    "    highest = 10**len(message)\n",
    "    upper_bound = highest\n",
    "    ranges = {}\n",
    "\n",
    "    current = 0\n",
    "    for symbol in freqdict:\n",
    "        freq = freqdict[symbol]\n",
    "        ranges[symbol] = (current,current + freq*upper_bound)\n",
    "        current += freq*upper_bound\n",
    "    \n",
    "    for character in message:\n",
    "        lower,upper = ranges[character]\n",
    "        size = upper_bound - lower_bound\n",
    "        upper_bound = lower_bound + (size/highest)*upper\n",
    "        lower_bound = lower_bound + (size/highest)*lower\n",
    "\n",
    "    result = (lower_bound + upper_bound)/2\n",
    "\n",
    "    return int(result)\n",
    "\n",
    "\n",
    "def decode (code,freqdict):\n",
    "    lower_bound = 0\n",
    "    highest = 10**len(str(code))\n",
    "    upper_bound = highest\n",
    "    result = ''\n",
    "    ranges = {}\n",
    "\n",
    "    current = 0\n",
    "    for symbol in freqdict:\n",
    "        freq = freqdict[symbol]\n",
    "        ranges[symbol] = (current,current + freq*upper_bound)\n",
    "        current += freq*upper_bound\n",
    "    \n",
    "    i=0\n",
    "    while i < len(str(code)):\n",
    "        for symbol, (lower,upper) in ranges.items():\n",
    "            size = upper_bound - lower_bound\n",
    "            if lower <= ((code - lower_bound)/size)*highest < upper:\n",
    "                result += symbol\n",
    "                upper_bound = lower_bound + (size/highest)*upper\n",
    "                lower_bound = lower_bound + (size/highest)*lower\n",
    "                i += 1\n",
    "       \n",
    "    return result"
   ]
  },
  {
   "cell_type": "code",
   "execution_count": 7,
   "metadata": {},
   "outputs": [
    {
     "name": "stdout",
     "output_type": "stream",
     "text": [
      "531\n",
      "ABC\n"
     ]
    }
   ],
   "source": [
    "a = {'A':.5,'B':.3,'C':.1,'D':.1}\n",
    "b = 'AABCABBD'\n",
    "\n",
    "\n",
    "c = {'A': 0.6, 'B': 0.2, 'C': 0.2}\n",
    "d = 'ABBAC'\n",
    "\n",
    "e = {'A':0.6,'B':0.3,'C':0.1}\n",
    "f = 'ABC'\n",
    "\n",
    "print(encode(e,f))\n",
    "print(decode(encode(e,f),e))"
   ]
  },
  {
   "cell_type": "code",
   "execution_count": null,
   "metadata": {},
   "outputs": [],
   "source": []
  }
 ],
 "metadata": {
  "kernelspec": {
   "display_name": "base",
   "language": "python",
   "name": "python3"
  },
  "language_info": {
   "codemirror_mode": {
    "name": "ipython",
    "version": 3
   },
   "file_extension": ".py",
   "mimetype": "text/x-python",
   "name": "python",
   "nbconvert_exporter": "python",
   "pygments_lexer": "ipython3",
   "version": "3.9.12"
  }
 },
 "nbformat": 4,
 "nbformat_minor": 2
}
